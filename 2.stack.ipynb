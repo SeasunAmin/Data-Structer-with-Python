{
 "cells": [
  {
   "cell_type": "markdown",
   "id": "60d6fc36",
   "metadata": {},
   "source": [
    "<img src=\"image/cloud.png\" style=\"height:50px ; align:left\" > "
   ]
  },
  {
   "cell_type": "markdown",
   "id": "9e6993fb",
   "metadata": {},
   "source": [
    "# Stack\n",
    "* push\n",
    "* pop \n",
    "* peek or top\n",
    "* isEmpty"
   ]
  },
  {
   "cell_type": "markdown",
   "id": "f8ae7578",
   "metadata": {},
   "source": [
    "### Stack :\n",
    "Stack Could be implemented in two ways:\n",
    "1. using list.\n",
    "2. modules."
   ]
  },
  {
   "cell_type": "markdown",
   "id": "b098e959",
   "metadata": {},
   "source": [
    "**1.Using list stack push method:**"
   ]
  },
  {
   "cell_type": "code",
   "execution_count": null,
   "id": "9ae47fce",
   "metadata": {},
   "outputs": [],
   "source": [
    "\n",
    "stack  = []\n",
    "stack.append(10)\n",
    "stack.append(20)\n",
    "stack.append(30)\n",
    "stack.append(40)\n",
    "stack"
   ]
  },
  {
   "cell_type": "code",
   "execution_count": null,
   "id": "fb6f509e",
   "metadata": {},
   "outputs": [],
   "source": [
    "#stack pop method:\n",
    "\n",
    "stack.pop()\n",
    "stack"
   ]
  },
  {
   "cell_type": "code",
   "execution_count": null,
   "id": "319c4b25",
   "metadata": {},
   "outputs": [],
   "source": [
    "#Cheking the satck is empty or not:\n",
    "\n",
    "len(stack) == 0"
   ]
  },
  {
   "cell_type": "code",
   "execution_count": null,
   "id": "3d3e3bc0",
   "metadata": {},
   "outputs": [],
   "source": [
    "not stack"
   ]
  },
  {
   "cell_type": "code",
   "execution_count": null,
   "id": "93a48fc7",
   "metadata": {},
   "outputs": [],
   "source": [
    "#Checking the last element of the stack or top element of the stack :\n",
    "\n",
    "stack[-1]"
   ]
  },
  {
   "cell_type": "markdown",
   "id": "9647d583",
   "metadata": {},
   "source": [
    "**Example 1:**"
   ]
  },
  {
   "cell_type": "code",
   "execution_count": null,
   "id": "c7792db4",
   "metadata": {},
   "outputs": [],
   "source": [
    "stack_2 = []\n",
    "\n",
    "def push():\n",
    "    element = int(input(\"Enter the elemet :\"))\n",
    "    stack_2.append(element)\n",
    "    print(stack_2)\n",
    "\n",
    "def pop_element():\n",
    "    if not stack_2:\n",
    "        print(\"Stack is empty.\")\n",
    "    else:\n",
    "        e = stack_2.pop()\n",
    "        print(\"Pop {} done \".format(e))\n",
    "        \n",
    " \n",
    "    "
   ]
  },
  {
   "cell_type": "code",
   "execution_count": null,
   "id": "f193607d",
   "metadata": {},
   "outputs": [],
   "source": [
    "\n",
    "while True:\n",
    "    print(\"Select the operations 1.Push 2.Pop 3.exit\")\n",
    "    operation = int(input())\n",
    "    if operation==1:\n",
    "        push()\n",
    "\n",
    "    elif operation==2:\n",
    "        e = pop_element()\n",
    "       \n",
    "    \n",
    "    elif operation ==3:\n",
    "        print(\"Exit Done.\")\n",
    "        break\n",
    "    \n",
    "    else:\n",
    "        print(\"Enter the currect operation\")"
   ]
  },
  {
   "cell_type": "markdown",
   "id": "42a00e56",
   "metadata": {},
   "source": [
    "**2.Stack using Modules:**\n",
    "* collections -- deque class\n",
    "* queue -- lifoqueue class"
   ]
  },
  {
   "cell_type": "markdown",
   "id": "8671e3ef",
   "metadata": {},
   "source": [
    "**Collections**"
   ]
  },
  {
   "cell_type": "code",
   "execution_count": 1,
   "id": "2129edc4",
   "metadata": {},
   "outputs": [
    {
     "data": {
      "text/plain": [
       "deque([])"
      ]
     },
     "execution_count": 1,
     "metadata": {},
     "output_type": "execute_result"
    }
   ],
   "source": [
    "import collections\n",
    "stack_3 = collections.deque()\n",
    "stack_3"
   ]
  },
  {
   "cell_type": "code",
   "execution_count": 2,
   "id": "dcdf4ab9",
   "metadata": {},
   "outputs": [],
   "source": [
    "stack_3.append(10)\n",
    "stack_3.append(20)\n",
    "stack_3.append(30)"
   ]
  },
  {
   "cell_type": "code",
   "execution_count": 3,
   "id": "22996517",
   "metadata": {},
   "outputs": [
    {
     "data": {
      "text/plain": [
       "deque([10, 20, 30])"
      ]
     },
     "execution_count": 3,
     "metadata": {},
     "output_type": "execute_result"
    }
   ],
   "source": [
    "stack_3"
   ]
  },
  {
   "cell_type": "code",
   "execution_count": 4,
   "id": "d69c8578",
   "metadata": {},
   "outputs": [
    {
     "data": {
      "text/plain": [
       "30"
      ]
     },
     "execution_count": 4,
     "metadata": {},
     "output_type": "execute_result"
    }
   ],
   "source": [
    "stack_3.pop()"
   ]
  },
  {
   "cell_type": "code",
   "execution_count": 5,
   "id": "a4e98a8e",
   "metadata": {},
   "outputs": [
    {
     "data": {
      "text/plain": [
       "False"
      ]
     },
     "execution_count": 5,
     "metadata": {},
     "output_type": "execute_result"
    }
   ],
   "source": [
    "not stack_3"
   ]
  },
  {
   "cell_type": "code",
   "execution_count": 6,
   "id": "5d27d4e9",
   "metadata": {},
   "outputs": [
    {
     "data": {
      "text/plain": [
       "False"
      ]
     },
     "execution_count": 6,
     "metadata": {},
     "output_type": "execute_result"
    }
   ],
   "source": [
    "len(stack_3)==0"
   ]
  },
  {
   "cell_type": "code",
   "execution_count": 7,
   "id": "6cd5051d",
   "metadata": {},
   "outputs": [
    {
     "data": {
      "text/plain": [
       "20"
      ]
     },
     "execution_count": 7,
     "metadata": {},
     "output_type": "execute_result"
    }
   ],
   "source": [
    "stack_3[-1]"
   ]
  },
  {
   "cell_type": "markdown",
   "id": "9e78bbcd",
   "metadata": {},
   "source": [
    "**Queue**"
   ]
  },
  {
   "cell_type": "code",
   "execution_count": 8,
   "id": "8882736c",
   "metadata": {},
   "outputs": [
    {
     "data": {
      "text/plain": [
       "<queue.LifoQueue at 0x14b758bbf40>"
      ]
     },
     "execution_count": 8,
     "metadata": {},
     "output_type": "execute_result"
    }
   ],
   "source": [
    "import queue\n",
    "\n",
    "stack_4 =queue.LifoQueue()\n",
    "stack_4"
   ]
  },
  {
   "cell_type": "code",
   "execution_count": 9,
   "id": "f7d99f35",
   "metadata": {},
   "outputs": [],
   "source": [
    "# adding in stack\n",
    "\n",
    "stack_4.put(10)\n",
    "stack_4.put(20)\n",
    "stack_4.put(30)"
   ]
  },
  {
   "cell_type": "code",
   "execution_count": null,
   "id": "59eea044",
   "metadata": {},
   "outputs": [],
   "source": [
    "#removing from stack"
   ]
  },
  {
   "cell_type": "code",
   "execution_count": 11,
   "id": "0000ea2e",
   "metadata": {},
   "outputs": [
    {
     "data": {
      "text/plain": [
       "30"
      ]
     },
     "execution_count": 11,
     "metadata": {},
     "output_type": "execute_result"
    }
   ],
   "source": [
    "stack_4.get()"
   ]
  },
  {
   "cell_type": "code",
   "execution_count": 12,
   "id": "8f56f8be",
   "metadata": {},
   "outputs": [
    {
     "data": {
      "text/plain": [
       "20"
      ]
     },
     "execution_count": 12,
     "metadata": {},
     "output_type": "execute_result"
    }
   ],
   "source": [
    "stack_4.get()"
   ]
  },
  {
   "cell_type": "code",
   "execution_count": 13,
   "id": "0b8e133c",
   "metadata": {},
   "outputs": [
    {
     "data": {
      "text/plain": [
       "10"
      ]
     },
     "execution_count": 13,
     "metadata": {},
     "output_type": "execute_result"
    }
   ],
   "source": [
    "stack_4.get()"
   ]
  },
  {
   "cell_type": "code",
   "execution_count": 16,
   "id": "389744ca",
   "metadata": {},
   "outputs": [
    {
     "ename": "Full",
     "evalue": "",
     "output_type": "error",
     "traceback": [
      "\u001b[1;31m---------------------------------------------------------------------------\u001b[0m",
      "\u001b[1;31mFull\u001b[0m                                      Traceback (most recent call last)",
      "Input \u001b[1;32mIn [16]\u001b[0m, in \u001b[0;36m<cell line: 8>\u001b[1;34m()\u001b[0m\n\u001b[0;32m      5\u001b[0m stack_4\u001b[38;5;241m.\u001b[39mput(\u001b[38;5;241m20\u001b[39m)\n\u001b[0;32m      6\u001b[0m stack_4\u001b[38;5;241m.\u001b[39mput(\u001b[38;5;241m30\u001b[39m)\n\u001b[1;32m----> 8\u001b[0m \u001b[43mstack_4\u001b[49m\u001b[38;5;241;43m.\u001b[39;49m\u001b[43mput\u001b[49m\u001b[43m(\u001b[49m\u001b[38;5;241;43m10\u001b[39;49m\u001b[43m,\u001b[49m\u001b[43mtimeout\u001b[49m\u001b[38;5;241;43m=\u001b[39;49m\u001b[38;5;241;43m1\u001b[39;49m\u001b[43m)\u001b[49m\n",
      "File \u001b[1;32mC:\\anaconda\\lib\\queue.py:148\u001b[0m, in \u001b[0;36mQueue.put\u001b[1;34m(self, item, block, timeout)\u001b[0m\n\u001b[0;32m    146\u001b[0m             remaining \u001b[38;5;241m=\u001b[39m endtime \u001b[38;5;241m-\u001b[39m time()\n\u001b[0;32m    147\u001b[0m             \u001b[38;5;28;01mif\u001b[39;00m remaining \u001b[38;5;241m<\u001b[39m\u001b[38;5;241m=\u001b[39m \u001b[38;5;241m0.0\u001b[39m:\n\u001b[1;32m--> 148\u001b[0m                 \u001b[38;5;28;01mraise\u001b[39;00m Full\n\u001b[0;32m    149\u001b[0m             \u001b[38;5;28mself\u001b[39m\u001b[38;5;241m.\u001b[39mnot_full\u001b[38;5;241m.\u001b[39mwait(remaining)\n\u001b[0;32m    150\u001b[0m \u001b[38;5;28mself\u001b[39m\u001b[38;5;241m.\u001b[39m_put(item)\n",
      "\u001b[1;31mFull\u001b[0m: "
     ]
    }
   ],
   "source": [
    "#olny take 3 elemet\n",
    "\n",
    "stack_4 = queue.LifoQueue(3)\n",
    "stack_4.put(10)\n",
    "stack_4.put(20)\n",
    "stack_4.put(30)\n",
    "\n",
    "stack_4.put(10,timeout=1)"
   ]
  },
  {
   "cell_type": "code",
   "execution_count": null,
   "id": "b923508e",
   "metadata": {},
   "outputs": [],
   "source": []
  }
 ],
 "metadata": {
  "kernelspec": {
   "display_name": "Python 3 (ipykernel)",
   "language": "python",
   "name": "python3"
  },
  "language_info": {
   "codemirror_mode": {
    "name": "ipython",
    "version": 3
   },
   "file_extension": ".py",
   "mimetype": "text/x-python",
   "name": "python",
   "nbconvert_exporter": "python",
   "pygments_lexer": "ipython3",
   "version": "3.9.12"
  },
  "varInspector": {
   "cols": {
    "lenName": 16,
    "lenType": 16,
    "lenVar": 40
   },
   "kernels_config": {
    "python": {
     "delete_cmd_postfix": "",
     "delete_cmd_prefix": "del ",
     "library": "var_list.py",
     "varRefreshCmd": "print(var_dic_list())"
    },
    "r": {
     "delete_cmd_postfix": ") ",
     "delete_cmd_prefix": "rm(",
     "library": "var_list.r",
     "varRefreshCmd": "cat(var_dic_list()) "
    }
   },
   "types_to_exclude": [
    "module",
    "function",
    "builtin_function_or_method",
    "instance",
    "_Feature"
   ],
   "window_display": false
  }
 },
 "nbformat": 4,
 "nbformat_minor": 5
}
