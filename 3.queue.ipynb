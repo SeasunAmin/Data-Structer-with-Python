{
 "cells": [
  {
   "cell_type": "markdown",
   "id": "f407b865",
   "metadata": {},
   "source": [
    "<h1><center>Queue </center></h1>\n",
    "<img src=\"image/queue.png\" style =\"height: 160px; weight: 180px \">"
   ]
  },
  {
   "cell_type": "markdown",
   "id": "be2943be",
   "metadata": {},
   "source": [
    "**Queue follows the fist in first out or FIFO**\n",
    "\n",
    "**Queue has four operations :**\n",
    "1. enqueue (process of adding element in queue. -- append() function is use )\n",
    "2. dequeue (process of deleteing element from queue. --pop() function with 0 index is use)\n",
    "3. isFull\n",
    "4. isEmpty\n",
    "\n",
    "**We can implemnt queue with:**\n",
    "1. list\n",
    "2. modules"
   ]
  },
  {
   "cell_type": "markdown",
   "id": "13207817",
   "metadata": {},
   "source": [
    "**1. Implemnting Queue using List :**"
   ]
  },
  {
   "cell_type": "code",
   "execution_count": null,
   "id": "f7dec7c0",
   "metadata": {},
   "outputs": [],
   "source": [
    "queue = []\n",
    "\n",
    "queue.append(10)\n",
    "queue.append(20)\n",
    "queue.append(30)\n",
    "\n",
    "queue"
   ]
  },
  {
   "cell_type": "code",
   "execution_count": null,
   "id": "06e996bb",
   "metadata": {},
   "outputs": [],
   "source": [
    "queue.pop(0)\n",
    "queue"
   ]
  },
  {
   "cell_type": "markdown",
   "id": "825c7fc0",
   "metadata": {},
   "source": [
    "<img src=\"image/queue2.png\" style = \"height: 160px;  \">"
   ]
  },
  {
   "cell_type": "code",
   "execution_count": null,
   "id": "36236553",
   "metadata": {},
   "outputs": [],
   "source": [
    "queue_2 = []\n",
    "\n",
    "queue_2.insert(0,10)\n",
    "queue_2.insert(0,20)\n",
    "queue_2.insert(0,30)\n",
    "queue_2.insert(0,40)\n",
    "queue_2"
   ]
  },
  {
   "cell_type": "code",
   "execution_count": null,
   "id": "9c35cbd8",
   "metadata": {},
   "outputs": [],
   "source": [
    "queue_2.pop()"
   ]
  },
  {
   "cell_type": "code",
   "execution_count": null,
   "id": "813ac574",
   "metadata": {},
   "outputs": [],
   "source": [
    "#cheking queue is empty or not\n",
    "\n",
    "not queue_2"
   ]
  },
  {
   "cell_type": "code",
   "execution_count": null,
   "id": "94d67df8",
   "metadata": {},
   "outputs": [],
   "source": [
    "#cheking the top and bottom of the queue\n",
    "\n",
    "print(\"Queue top : \",queue_2[-1])\n",
    "print(\"Queue bottom : \",queue_2[0])"
   ]
  },
  {
   "cell_type": "markdown",
   "id": "66df2688",
   "metadata": {},
   "source": [
    "**Example:1**"
   ]
  },
  {
   "cell_type": "code",
   "execution_count": null,
   "id": "8659a208",
   "metadata": {},
   "outputs": [],
   "source": [
    "queue_3 = []\n",
    "\n",
    "def enqueue():\n",
    "    element = int(input(\"Element : \"))\n",
    "    queue_3.append(element)\n",
    "    print(element,\" added\")\n",
    "\n",
    "def  dqueue():\n",
    "    if not queue_3:\n",
    "        print(\"Empty Queue\")\n",
    "        \n",
    "    else:\n",
    "        e =  queue_3.pop(0)\n",
    "        print(\"removed element \",e )\n",
    "\n",
    "    \n",
    "def show():\n",
    "    print(queue_3)"
   ]
  },
  {
   "cell_type": "code",
   "execution_count": null,
   "id": "4867b9a4",
   "metadata": {},
   "outputs": [],
   "source": [
    "while True:\n",
    "    choice = int(input(\"1.Add 2.Remove 3.Show 4.Exit\"))\n",
    "    \n",
    "    if choice == 1:\n",
    "        enqueue()\n",
    "    \n",
    "    elif choice ==2:\n",
    "        dqueue()\n",
    "        \n",
    "    elif choice ==3:\n",
    "        show()\n",
    "        \n",
    "    elif choice ==4:\n",
    "        break\n",
    "    \n",
    "    else:\n",
    "        print(\"Wrong Input\")\n"
   ]
  },
  {
   "cell_type": "markdown",
   "id": "3919d966",
   "metadata": {},
   "source": [
    "**2. Implementing Queue using Modules:**\n",
    "* collections class"
   ]
  },
  {
   "cell_type": "code",
   "execution_count": 9,
   "id": "06627aa3",
   "metadata": {},
   "outputs": [
    {
     "data": {
      "text/plain": [
       "deque([])"
      ]
     },
     "execution_count": 9,
     "metadata": {},
     "output_type": "execute_result"
    }
   ],
   "source": [
    "import collections\n",
    "q = collections.deque()\n",
    "q\n"
   ]
  },
  {
   "cell_type": "code",
   "execution_count": 10,
   "id": "98c9f6cc",
   "metadata": {},
   "outputs": [
    {
     "data": {
      "text/plain": [
       "deque([30, 20, 10])"
      ]
     },
     "execution_count": 10,
     "metadata": {},
     "output_type": "execute_result"
    }
   ],
   "source": [
    "#adding in queue\n",
    "\n",
    "q.appendleft(10)\n",
    "q.appendleft(20)\n",
    "q.appendleft(30)\n",
    "q"
   ]
  },
  {
   "cell_type": "code",
   "execution_count": 11,
   "id": "19beb9aa",
   "metadata": {},
   "outputs": [
    {
     "data": {
      "text/plain": [
       "deque([30, 20])"
      ]
     },
     "execution_count": 11,
     "metadata": {},
     "output_type": "execute_result"
    }
   ],
   "source": [
    "#deleting from queue\n",
    "\n",
    "q.pop()\n",
    "q"
   ]
  },
  {
   "cell_type": "code",
   "execution_count": 13,
   "id": "a2456e30",
   "metadata": {},
   "outputs": [
    {
     "data": {
      "text/plain": [
       "deque([10, 20, 30])"
      ]
     },
     "execution_count": 13,
     "metadata": {},
     "output_type": "execute_result"
    }
   ],
   "source": [
    "#creating queue\n",
    "q_2 = collections.deque()\n",
    "\n",
    "#Adding in queue\n",
    "\n",
    "q_2.append(10)\n",
    "q_2.append(20)\n",
    "q_2.append(30)\n",
    "\n",
    "q_2"
   ]
  },
  {
   "cell_type": "code",
   "execution_count": 14,
   "id": "fb76ab83",
   "metadata": {},
   "outputs": [
    {
     "data": {
      "text/plain": [
       "10"
      ]
     },
     "execution_count": 14,
     "metadata": {},
     "output_type": "execute_result"
    }
   ],
   "source": [
    "#removing from queue\n",
    "\n",
    "q_2.popleft()"
   ]
  },
  {
   "cell_type": "code",
   "execution_count": 15,
   "id": "eb29dbc3",
   "metadata": {},
   "outputs": [
    {
     "data": {
      "text/plain": [
       "False"
      ]
     },
     "execution_count": 15,
     "metadata": {},
     "output_type": "execute_result"
    }
   ],
   "source": [
    "#checking empty or not\n",
    "\n",
    "not q"
   ]
  },
  {
   "cell_type": "code",
   "execution_count": null,
   "id": "f03bb2f1",
   "metadata": {},
   "outputs": [],
   "source": []
  }
 ],
 "metadata": {
  "kernelspec": {
   "display_name": "Python 3 (ipykernel)",
   "language": "python",
   "name": "python3"
  },
  "language_info": {
   "codemirror_mode": {
    "name": "ipython",
    "version": 3
   },
   "file_extension": ".py",
   "mimetype": "text/x-python",
   "name": "python",
   "nbconvert_exporter": "python",
   "pygments_lexer": "ipython3",
   "version": "3.9.12"
  },
  "varInspector": {
   "cols": {
    "lenName": 16,
    "lenType": 16,
    "lenVar": 40
   },
   "kernels_config": {
    "python": {
     "delete_cmd_postfix": "",
     "delete_cmd_prefix": "del ",
     "library": "var_list.py",
     "varRefreshCmd": "print(var_dic_list())"
    },
    "r": {
     "delete_cmd_postfix": ") ",
     "delete_cmd_prefix": "rm(",
     "library": "var_list.r",
     "varRefreshCmd": "cat(var_dic_list()) "
    }
   },
   "types_to_exclude": [
    "module",
    "function",
    "builtin_function_or_method",
    "instance",
    "_Feature"
   ],
   "window_display": false
  }
 },
 "nbformat": 4,
 "nbformat_minor": 5
}
